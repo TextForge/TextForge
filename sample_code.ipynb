{
 "cells": [
  {
   "cell_type": "code",
   "execution_count": 2,
   "metadata": {},
   "outputs": [
    {
     "name": "stdout",
     "output_type": "stream",
     "text": [
      "Running: sample_data.csv\n",
      "                                                   text          label\n",
      "0     UK house prices dip in NovemberUK house prices...       business\n",
      "1     LSE 'sets date for takeover deal'The London St...       business\n",
      "2     Harinordoquy suffers France axeNumber eight Im...          sport\n",
      "3     Barclays shares up on merger talkShares in UK ...       business\n",
      "4     Campaign 'cold calls' questionedLabour and the...       politics\n",
      "...                                                 ...            ...\n",
      "2220  Robinson answers criticsEngland captain Jason ...          sport\n",
      "2221  Mallon wades into NE vote battleMiddlesbrough ...       politics\n",
      "2222  Lib Dems' new election PR chiefThe Lib Dems ha...       politics\n",
      "2223  Tories reject rethink on axed MPSacked MP Howa...       politics\n",
      "2224  Women in film 'are earning less'Women in the U...  entertainment\n",
      "\n",
      "[2225 rows x 2 columns]\n",
      "Calculating initial features...\n",
      "Time taken: 0.0 seconds\n",
      "Calculating TextStat metrics...\n",
      "Time taken: 6.0 seconds\n",
      "Calculating vocabulary metrics...\n",
      "Time taken: 1.0 seconds\n",
      "Calculating part-of-speech tagging metrics...\n",
      "Time taken: 28.0 seconds\n",
      "Calculating category document frequency meta-features...\n",
      "Time taken: 0.0 seconds\n",
      "Calculating document length meta-features...\n",
      "Time taken: 0.0 seconds\n",
      "Calculating principal component analysis meta-features...\n",
      "Time taken: 2.0 seconds\n",
      "Calculating hardness features...\n",
      "Time taken: 1.0 seconds\n",
      "Calculating landmarking meta-features...\n"
     ]
    },
    {
     "name": "stderr",
     "output_type": "stream",
     "text": [
      "c:\\Users\\Shehan\\AppData\\Local\\Programs\\Python\\Python39\\lib\\site-packages\\sklearn\\linear_model\\_sag.py:350: ConvergenceWarning: The max_iter was reached which means the coef_ did not converge\n",
      "  warnings.warn(\n"
     ]
    },
    {
     "name": "stdout",
     "output_type": "stream",
     "text": [
      "Time taken: 3.0 seconds\n",
      "Calculating multi-class discrepancy features...\n",
      "Time taken: 1.0 seconds\n",
      "error sample_data.csv\n"
     ]
    },
    {
     "name": "stderr",
     "output_type": "stream",
     "text": [
      "d:\\TextForge\\TextForge\\util\\computeArrayStatistics.py:16: RuntimeWarning: invalid value encountered in double_scalars\n",
      "  ratio_avg_sd_input_list = mean_input/std_input\n",
      "d:\\TextForge\\TextForge\\util\\computeArrayStatistics.py:17: RuntimeWarning: invalid value encountered in double_scalars\n",
      "  ratio_avg_sd_input_list2 = mean_input/std_input2\n",
      "c:\\Users\\Shehan\\AppData\\Local\\Programs\\Python\\Python39\\lib\\site-packages\\scipy\\stats\\_entropy.py:72: RuntimeWarning: invalid value encountered in true_divide\n",
      "  pk = 1.0*pk / np.sum(pk, axis=axis, keepdims=True)\n"
     ]
    }
   ],
   "source": [
    "# pip install git+https://github.com/TextForge/TextForge.git\n",
    "\n",
    "from TextForge import textForge\n",
    "import pandas as pd\n",
    "\n",
    "\n",
    "files = [\"sample_data.csv\"]\n",
    "\n",
    "\n",
    "config = {\n",
    "            \"InitialFeatures\": True,\n",
    "            \"TextStatMetrics\": True,\n",
    "            \"VocabularyMetrics\": True,\n",
    "            \"PartOfSpeechTaggingMetrics\": True,\n",
    "            \"CategoryDocumentFrequencyFeatures\": True,\n",
    "            \"DocumentLengthMetrics\": True,\n",
    "            \"PrincipalComponentAnalysisFeatures\": True,\n",
    "            \"HardnessFeatures\": True,\n",
    "            \"LandmarkingMetrics\": True,\n",
    "            \"MUDOF\": True,\n",
    "            \"TextFeatureTaxonomyMetrics\": False,\n",
    "            \"AutoMLFeatures\": False\n",
    "        }\n",
    "\n",
    "for file in files:\n",
    "    print(\"Running:\", file)\n",
    "    try:\n",
    "        df = pd.read_csv(file)\n",
    "        #remove null values\n",
    "        df = df.dropna()\n",
    "        print(df)\n",
    "        f = textForge.extract_features(df, file, pd.DataFrame(), config)\n",
    "        features = pd.concat([features, f], ignore_index=True)\n",
    "        features.to_csv('features.csv', index=False)\n",
    "    except:\n",
    "        print('error', file)\n",
    "        pass\n"
   ]
  }
 ],
 "metadata": {
  "kernelspec": {
   "display_name": "Python 3",
   "language": "python",
   "name": "python3"
  },
  "language_info": {
   "codemirror_mode": {
    "name": "ipython",
    "version": 3
   },
   "file_extension": ".py",
   "mimetype": "text/x-python",
   "name": "python",
   "nbconvert_exporter": "python",
   "pygments_lexer": "ipython3",
   "version": "3.9.6"
  },
  "orig_nbformat": 4
 },
 "nbformat": 4,
 "nbformat_minor": 2
}
